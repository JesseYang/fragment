{
 "cells": [
  {
   "cell_type": "code",
   "execution_count": 1,
   "metadata": {
    "collapsed": true
   },
   "outputs": [],
   "source": [
    "from reader import *\n",
    "import tensorflow as tf"
   ]
  },
  {
   "cell_type": "code",
   "execution_count": null,
   "metadata": {
    "collapsed": true
   },
   "outputs": [],
   "source": [
    "image, label = create_inputs(input_channel=1, dilations=[1,2,4,8,1,2,4,8,1])"
   ]
  },
  {
   "cell_type": "code",
   "execution_count": null,
   "metadata": {
    "collapsed": true
   },
   "outputs": [],
   "source": [
    "queue = tf.FIFOQueue(256, ['uint8', 'uint8'])\n",
    "enqueue = queue.enqueue([image, label])\n",
    "input_data = queue.dequeue()\n",
    "sess = tf.Session()\n",
    "coord = tf.train.Coordinator()\n",
    "qr = tf.train.QueueRunner(queue, [enqueue])\n",
    "qr.create_threads(sess, coord=coord, start=True)\n",
    "threads = tf.train.start_queue_runners(sess=sess, coord=coord)"
   ]
  },
  {
   "cell_type": "code",
   "execution_count": null,
   "metadata": {
    "collapsed": true
   },
   "outputs": [],
   "source": [
    "net = FragModel(input_channel=1,\n",
    "                klass=7,\n",
    "                batch_size=1,\n",
    "                kernel_size=3,\n",
    "                dilations=[1,2,4,8,1,2,4,8,1],\n",
    "                channels=[64, 64, 128, 128, 256, 256, 512, 512])"
   ]
  },
  {
   "cell_type": "code",
   "execution_count": null,
   "metadata": {
    "collapsed": true
   },
   "outputs": [],
   "source": [
    "image, label = net._preprocess(input_data)\n",
    "output = self._create_network(image)\n",
    "output = tf.reshape(output, [-1, self.klass])\n",
    "loss = tf.nn.sparse_softmax_cross_entropy_with_logits(logits=output,\n",
    "                                                      labels=label)\n",
    "reduced_loss = tf.reduce_mean(loss)"
   ]
  },
  {
   "cell_type": "code",
   "execution_count": null,
   "metadata": {
    "collapsed": true
   },
   "outputs": [],
   "source": [
    "init = tf.initialize_all_variables()\n",
    "sess.run(init)"
   ]
  }
 ],
 "metadata": {
  "kernelspec": {
   "display_name": "Python 2",
   "language": "python",
   "name": "python2"
  },
  "language_info": {
   "codemirror_mode": {
    "name": "ipython",
    "version": 2
   },
   "file_extension": ".py",
   "mimetype": "text/x-python",
   "name": "python",
   "nbconvert_exporter": "python",
   "pygments_lexer": "ipython2",
   "version": "2.7.6"
  }
 },
 "nbformat": 4,
 "nbformat_minor": 1
}
