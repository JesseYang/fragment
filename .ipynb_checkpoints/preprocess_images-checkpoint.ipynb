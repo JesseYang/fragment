{
 "cells": [
  {
   "cell_type": "code",
   "execution_count": 16,
   "metadata": {
    "collapsed": true
   },
   "outputs": [],
   "source": [
    "from scipy import misc\n",
    "import numpy as np\n",
    "import os\n",
    "import matplotlib.pyplot as plt\n",
    "%matplotlib inline \n",
    "import json"
   ]
  },
  {
   "cell_type": "code",
   "execution_count": 46,
   "metadata": {
    "collapsed": false
   },
   "outputs": [],
   "source": [
    "with open('frag_params.json', 'r') as f:\n",
    "    frag_params = json.load(f)\n",
    "receptive_field = 0\n",
    "for dilation in frag_params['dilations']:\n",
    "    receptive_field = receptive_field + dilation\n",
    "width_pad = receptive_field\n",
    "receptive_field = receptive_field * 2 + 1\n",
    "height = receptive_field"
   ]
  },
  {
   "cell_type": "code",
   "execution_count": 52,
   "metadata": {
    "collapsed": false
   },
   "outputs": [],
   "source": [
    "for (dirpath, dirnames, filenames) in os.walk('training_set/images'):\n",
    "    for filename in filenames:\n",
    "        image = misc.imread('training_set/images/' + filename, mode='L')\n",
    "        cur_height = image.shape[0]\n",
    "        cur_width = image.shape[1]\n",
    "        if height > cur_height:\n",
    "            # should pad in the vertical direction\n",
    "            top_pad = (height - cur_height) / 2\n",
    "            bottom_pad = (height - cur_height) - top_pad\n",
    "            pad_image = np.pad(array=image,\n",
    "                               pad_width=((top_pad, bottom_pad), (width_pad, width_pad)),\n",
    "                               mode='constant',\n",
    "                               constant_values=(255, 255))\n",
    "        else:\n",
    "            # should resise to fit the vertical direction\n",
    "            print height\n",
    "            resized_image = misc.imresize(image, (height, image.shape[1]))\n",
    "            print resized_image.shape\n",
    "            pad_image = np.pad(array=resized_image,\n",
    "                               pad_width=((0, 0), (width_pad, width_pad)),\n",
    "                               mode='constant',\n",
    "                               constant_values=(255, 255))\n",
    "        misc.imsave('training_set/pad_images/' + filename, pad_image)\n",
    "#         plt.imshow(pad_image, cmap ='gray')\n",
    "#         plt.show()"
   ]
  }
 ],
 "metadata": {
  "kernelspec": {
   "display_name": "Python 2",
   "language": "python",
   "name": "python2"
  },
  "language_info": {
   "codemirror_mode": {
    "name": "ipython",
    "version": 2
   },
   "file_extension": ".py",
   "mimetype": "text/x-python",
   "name": "python",
   "nbconvert_exporter": "python",
   "pygments_lexer": "ipython2",
   "version": "2.7.6"
  }
 },
 "nbformat": 4,
 "nbformat_minor": 1
}
